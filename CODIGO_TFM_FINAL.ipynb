{
  "nbformat": 4,
  "nbformat_minor": 0,
  "metadata": {
    "colab": {
      "provenance": []
    },
    "kernelspec": {
      "name": "python3",
      "display_name": "Python 3"
    },
    "language_info": {
      "name": "python"
    }
  },
  "cells": [
    {
      "cell_type": "code",
      "source": [
        "# Por si no lo montáis desde el menú lateral\n",
        "from google.colab import drive\n",
        "drive.mount('/content/drive')"
      ],
      "metadata": {
        "colab": {
          "base_uri": "https://localhost:8080/"
        },
        "id": "XAhDWaG8sGHi",
        "outputId": "e3f8a7de-a209-4a75-b446-6f6584c5702d"
      },
      "execution_count": 1,
      "outputs": [
        {
          "output_type": "stream",
          "name": "stdout",
          "text": [
            "Mounted at /content/drive\n"
          ]
        }
      ]
    },
    {
      "cell_type": "markdown",
      "source": [
        "### PRIMER DÍA. FICHERO CON COORDENADAS Y HORAS DE INSTALACIÓN NECESARIAS. A LAS DIRECCIONES QUE NO LOCALIZA SE ASIGNAN LAS COORDENADAS DEL CÓDIGO POSTAL"
      ],
      "metadata": {
        "id": "aFdP9WKXfKNz"
      }
    },
    {
      "cell_type": "code",
      "source": [
        "import pandas as pd\n",
        "from geopy.geocoders import Nominatim\n",
        "from geopy.exc import GeocoderTimedOut\n",
        "import time\n",
        "from openpyxl import load_workbook\n",
        "from openpyxl.styles import PatternFill\n",
        "\n",
        "# Crear objeto geolocalizador\n",
        "geolocator = Nominatim(user_agent=\"mi_aplicacion\", timeout=10)\n",
        "\n",
        "# Archivo día 1\n",
        "df = pd.read_excel('/content/drive/MyDrive/Dia1_20250227.xlsx', sheet_name='Hoja1', engine='openpyxl')\n",
        "\n",
        "# Incluimos una pausa para facilitar la búsqueda y que no de errores\n",
        "def obtener_coordenadas_con_pausa(row):\n",
        "    direccion = f\"{row['CALLE']}, {row['NUMERO']}, {row['CP']}, Madrid, España\"\n",
        "    try:\n",
        "        location = geolocator.geocode(direccion)\n",
        "        time.sleep(1)  # Pausa de 1 segundo entre solicitudes\n",
        "        if location:\n",
        "            return location.latitude, location.longitude, False\n",
        "        else:\n",
        "            # Si no puede localizar las coordenadas por dirección asigna la del CP\n",
        "            direccion_cp = f\"{row['CP']}, Madrid, España\"\n",
        "            location_cp = geolocator.geocode(direccion_cp)\n",
        "            time.sleep(1)  # Pausa de 1 segundo entre solicitudes\n",
        "            if location_cp:\n",
        "                return location_cp.latitude, location_cp.longitude, True\n",
        "            else:\n",
        "                return None, None, False\n",
        "    except GeocoderTimedOut:\n",
        "        return obtener_coordenadas_con_pausa(row)\n",
        "\n",
        "# Se aplica la función a cada fila del fichero\n",
        "df['Latitud'], df['Longitud'], df['Solo_CP'] = zip(*df.apply(obtener_coordenadas_con_pausa, axis=1))\n",
        "\n",
        "# Se añade la columna \"Horas_instalacion\" asignando las horas en función de la familia del producto\n",
        "def calcular_horas_instalacion(row):\n",
        "    if row['FAMILIA'] == 810:\n",
        "        return row['UNIDADES'] * 2\n",
        "    elif row['FAMILIA'] == 811:\n",
        "        return row['UNIDADES'] * 4\n",
        "    elif row['FAMILIA'] == 812:\n",
        "        return row['UNIDADES'] * 6\n",
        "    elif row['FAMILIA'] == 813:\n",
        "        return row['UNIDADES'] * 6\n",
        "    elif row['FAMILIA'] == 816:\n",
        "        return row['UNIDADES'] * 2\n",
        "    elif row['FAMILIA'] == 818:\n",
        "        return row['UNIDADES'] * 2\n",
        "    elif row['FAMILIA'] == 820:\n",
        "        return row['UNIDADES'] * 4\n",
        "    elif row['FAMILIA'] == 822:\n",
        "        return row['UNIDADES'] * 8\n",
        "    elif row['FAMILIA'] == 824:\n",
        "        return row['UNIDADES'] * 6\n",
        "    else:\n",
        "        return None\n",
        "df['Horas_instalacion'] = df.apply(calcular_horas_instalacion, axis=1)\n",
        "\n",
        "# Guardar el fichero\n",
        "output_path = '/content/drive/MyDrive/Dia1_20250227_coord_horas.xlsx'\n",
        "df.to_excel(output_path, index=False)\n",
        "\n",
        "# Cargar el archivo Excel guardado para aplicar formato de color rojo a las coordenadas asignadas solo por CP\n",
        "wb = load_workbook(output_path)\n",
        "ws = wb.active\n",
        "\n",
        "# Definir el estilo de color rojo para las celdas\n",
        "red_fill = PatternFill(start_color=\"FFFF0000\", end_color=\"FFFF0000\", fill_type=\"solid\")\n",
        "\n",
        "# Aplicar el estilo a las celdas correspondientes en las columnas de Latitud y Longitud\n",
        "for index, row in df.iterrows():\n",
        "    if row['Solo_CP']:\n",
        "        ws[f'W{index + 2}'].fill = red_fill  # Columna C para Latitud\n",
        "        ws[f'X{index + 2}'].fill = red_fill  # Columna D para Longitud\n",
        "\n",
        "# Guardar los cambios en el archivo Excel\n",
        "wb.save(output_path)\n"
      ],
      "metadata": {
        "colab": {
          "base_uri": "https://localhost:8080/"
        },
        "id": "S7X11SKAuhXF",
        "outputId": "32b40ccf-b21b-4b28-eea8-14f7d0cf2236"
      },
      "execution_count": null,
      "outputs": [
        {
          "output_type": "stream",
          "name": "stdout",
          "text": [
            "Las coordenadas y la nueva columna 'Horas_instalacion' se han añadido y el archivo se ha guardado como 'Dia1_20250227_coord_horas.xlsx'. Las coordenadas asignadas solo por CP se han marcado en color rojo.\n"
          ]
        }
      ]
    },
    {
      "cell_type": "markdown",
      "source": [
        "### AGRUPAR POR CERCANIA A LOS CLIENTES. EPS = 0.02 rádio de 2,22KM. Capacidad maxima para asignar 8h de instalación. Hay controles en en informe para poder revisar los cluster asignados: si el número de horas del cluster es 8h se revisa para verificar el número de domicilios afectados. Si un cluster supera las 8 horas, normalmente mismo domicilio, se indica en el informe y se gestiona manualmente. Habría que asignar un cluster distinto para que en el siguiente paso asigne un instalador o tratarlo manualmente poniendo \"manual\""
      ],
      "metadata": {
        "id": "uA009REeBU85"
      }
    },
    {
      "cell_type": "code",
      "source": [
        "import pandas as pd\n",
        "from sklearn.cluster import DBSCAN\n",
        "import numpy as np\n",
        "\n",
        "data = pd.read_excel('/content/drive/MyDrive/Dia1_20250227_coord_horas.xlsx', sheet_name='Sheet1')\n",
        "\n",
        "# Función para agrupar por cercanía sin restricciones\n",
        "def agrupar_por_cercania(data, eps=0.02, min_samples=1):\n",
        "    agrupados = []\n",
        "\n",
        "    # Iterar sobre cada FECHA COMP INICIAL\n",
        "    for fecha in data[\"FECHA COMP INICIAL\"].unique():\n",
        "        subset = data[data[\"FECHA COMP INICIAL\"] == fecha]\n",
        "\n",
        "        # DBSCAN para agrupar por latitud y longitud\n",
        "        coords = subset[[\"Latitud\", \"Longitud\"]].values\n",
        "        db = DBSCAN(eps=eps, min_samples=min_samples).fit(coords)\n",
        "        subset[\"cluster\"] = db.labels_\n",
        "\n",
        "        agrupados.append(subset)\n",
        "\n",
        "    return pd.concat(agrupados)\n",
        "\n",
        "# Se aplica la función y se guarda el resultado\n",
        "agrupados = agrupar_por_cercania(data)\n",
        "agrupados.to_excel(\"/content/drive/MyDrive/Clientes_agrupados_sin_restricciones.xlsx\", index=False)\n",
        "\n",
        "# Añadir columna \"cluster_ajustado\" según las reglas\n",
        "def ajustar_clusters(data):\n",
        "    data[\"cluster_ajustado\"] = \"\"\n",
        "\n",
        "    for cluster in data[\"cluster\"].unique():\n",
        "        cluster_data = data[data[\"cluster\"] == cluster]\n",
        "        total_hours = 0\n",
        "        sub_cluster_id = 0\n",
        "        lat_lon_dict = {}\n",
        "\n",
        "        for index, row in cluster_data.iterrows():\n",
        "            lat_lon = (row[\"Latitud\"], row[\"Longitud\"])\n",
        "\n",
        "            if lat_lon in lat_lon_dict:\n",
        "                # Se suman las horas de instalación para latitudes y longitudes iguales\n",
        "                total_hours += row[\"Horas_instalacion\"]\n",
        "                data.loc[index, \"cluster_ajustado\"] = lat_lon_dict[lat_lon]\n",
        "            else:\n",
        "                # Verificar si hay una sola longitud y latitud en el cluster\n",
        "                if len(cluster_data[\"Latitud\"].unique()) == 1 and len(cluster_data[\"Longitud\"].unique()) == 1:\n",
        "                    threshold = 8\n",
        "                else:\n",
        "                    threshold = 6\n",
        "\n",
        "                # Se suman las horas de instalación de todas las filas con la misma latitud y longitud\n",
        "                same_lat_lon_hours = cluster_data[(cluster_data[\"Latitud\"] == row[\"Latitud\"]) & (cluster_data[\"Longitud\"] == row[\"Longitud\"])][\"Horas_instalacion\"].sum()\n",
        "\n",
        "                if total_hours + same_lat_lon_hours > threshold:\n",
        "                    sub_cluster_id += 1\n",
        "                    total_hours = row[\"Horas_instalacion\"]\n",
        "                else:\n",
        "                    total_hours += row[\"Horas_instalacion\"]\n",
        "\n",
        "                cluster_ajustado = f\"{cluster}_{sub_cluster_id}\"\n",
        "                data.loc[index, \"cluster_ajustado\"] = cluster_ajustado\n",
        "                lat_lon_dict[lat_lon] = cluster_ajustado\n",
        "\n",
        "    # Se suma el total de \"Horas_instalacion\" de cada \"cluster_ajustado\" por \"FECHA COMP INICIAL\" y asignar \"manual\" si es mayor de 8\n",
        "    for fecha in data[\"FECHA COMP INICIAL\"].unique():\n",
        "        fecha_data = data[data[\"FECHA COMP INICIAL\"] == fecha]\n",
        "        for cluster_ajustado in fecha_data[\"cluster_ajustado\"].unique():\n",
        "            if fecha_data[fecha_data[\"cluster_ajustado\"] == cluster_ajustado][\"Horas_instalacion\"].sum() > 8:\n",
        "                data.loc[(data[\"FECHA COMP INICIAL\"] == fecha) & (data[\"cluster_ajustado\"] == cluster_ajustado), \"cluster_ajustado\"] = \"MANUAL\"\n",
        "\n",
        "    return data\n",
        "\n",
        "# Ajustar los clusters y guardar el resultado\n",
        "data_ajustada = ajustar_clusters(agrupados)\n",
        "\n",
        "# Crear una columna con la suma de horas por cluster y fecha\n",
        "data_ajustada['total_horas'] = data_ajustada.groupby(['FECHA COMP INICIAL', 'cluster_ajustado'])['Horas_instalacion'].transform('sum')\n",
        "\n",
        "# Aplicar el estilo\n",
        "def highlight_equal_8(s):\n",
        "    is_equal_8 = s == 8\n",
        "    return ['background-color: yellow' if v else '' for v in is_equal_8]\n",
        "\n",
        "styled_data = data_ajustada.style.apply(highlight_equal_8, subset=['total_horas'])\n",
        "\n",
        "# Guardar\n",
        "styled_data.to_excel(\"/content/drive/MyDrive/Clientes_agrupados.xlsx\", index=False)\n",
        "\n",
        "print(\"Clusters ajustados y guardados en 'Clientes_agrupados.xlsx'\")\n"
      ],
      "metadata": {
        "colab": {
          "base_uri": "https://localhost:8080/"
        },
        "id": "9HqT1U8coX3f",
        "outputId": "15142931-163a-49b8-ce07-f5888ab75298"
      },
      "execution_count": 2,
      "outputs": [
        {
          "output_type": "stream",
          "name": "stderr",
          "text": [
            "<ipython-input-2-29d5121345d5>:19: SettingWithCopyWarning: \n",
            "A value is trying to be set on a copy of a slice from a DataFrame.\n",
            "Try using .loc[row_indexer,col_indexer] = value instead\n",
            "\n",
            "See the caveats in the documentation: https://pandas.pydata.org/pandas-docs/stable/user_guide/indexing.html#returning-a-view-versus-a-copy\n",
            "  subset[\"cluster\"] = db.labels_\n",
            "<ipython-input-2-29d5121345d5>:19: SettingWithCopyWarning: \n",
            "A value is trying to be set on a copy of a slice from a DataFrame.\n",
            "Try using .loc[row_indexer,col_indexer] = value instead\n",
            "\n",
            "See the caveats in the documentation: https://pandas.pydata.org/pandas-docs/stable/user_guide/indexing.html#returning-a-view-versus-a-copy\n",
            "  subset[\"cluster\"] = db.labels_\n",
            "<ipython-input-2-29d5121345d5>:19: SettingWithCopyWarning: \n",
            "A value is trying to be set on a copy of a slice from a DataFrame.\n",
            "Try using .loc[row_indexer,col_indexer] = value instead\n",
            "\n",
            "See the caveats in the documentation: https://pandas.pydata.org/pandas-docs/stable/user_guide/indexing.html#returning-a-view-versus-a-copy\n",
            "  subset[\"cluster\"] = db.labels_\n",
            "<ipython-input-2-29d5121345d5>:19: SettingWithCopyWarning: \n",
            "A value is trying to be set on a copy of a slice from a DataFrame.\n",
            "Try using .loc[row_indexer,col_indexer] = value instead\n",
            "\n",
            "See the caveats in the documentation: https://pandas.pydata.org/pandas-docs/stable/user_guide/indexing.html#returning-a-view-versus-a-copy\n",
            "  subset[\"cluster\"] = db.labels_\n"
          ]
        },
        {
          "output_type": "stream",
          "name": "stdout",
          "text": [
            "Clusters ajustados y guardados en 'Clientes_agrupados.xlsx'\n"
          ]
        }
      ]
    },
    {
      "cell_type": "markdown",
      "source": [
        "### ASIGNAR A LOS INSTALADORES POR CERCANIA"
      ],
      "metadata": {
        "id": "JFM_R_A9qoSE"
      }
    },
    {
      "cell_type": "markdown",
      "source": [
        "### ASIGNA A LOS INSTALADORES TENIENDO EN CUENTA SU CAPACIDAD DISPONIBLE Y ACTUALIZA EL FICHERO DE CAPACIDADES"
      ],
      "metadata": {
        "id": "XGlr-RQ3jTGh"
      }
    },
    {
      "cell_type": "code",
      "source": [
        "import pandas as pd\n",
        "import numpy as np\n",
        "from scipy.spatial.distance import cdist\n",
        "\n",
        "agrupados = pd.read_excel(\"/content/drive/MyDrive/Clientes_agrupados.xlsx\")\n",
        "capacidad_instaladores_dia = pd.read_excel('/content/drive/MyDrive/Capacidad_instaladores_dia.xlsx', engine='openpyxl')\n",
        "\n",
        "# Coordenadas de los clientes e instaladores\n",
        "agrupados_coords = agrupados[[\"Latitud\", \"Longitud\"]].values\n",
        "instaladores_coords = capacidad_instaladores_dia[[\"Latitud\", \"Longitud\"]].values\n",
        "# Calcular la distancia euclidiana entre cada grupo y cada instalador\n",
        "distancias = cdist(agrupados_coords, instaladores_coords, metric=\"euclidean\")\n",
        "\n",
        "# Se inicializa una columna para el instalador asignado\n",
        "agrupados[\"Instalador Asignado\"] = np.nan\n",
        "agrupados[\"Latitud Instalador\"] = np.nan\n",
        "agrupados[\"Longitud Instalador\"] = np.nan\n",
        "\n",
        "# Diccionario para contar las asignaciones por instalador y fecha\n",
        "asignaciones_por_instalador = {}\n",
        "\n",
        "# Se itera sobre cada grupo\n",
        "for i in range(len(agrupados)):\n",
        "    fecha = agrupados.loc[i, \"FECHA COMP INICIAL\"]\n",
        "    horas_instalacion = agrupados.loc[i, \"Horas_instalacion\"]\n",
        "\n",
        "    # Se filtran los instaladores que tienen horas disponibles para la fecha\n",
        "    instaladores_disponibles = capacidad_instaladores_dia[capacidad_instaladores_dia[fecha] >= horas_instalacion]\n",
        "\n",
        "    # Se obtinen las coordenadas de los instaladores disponibles\n",
        "    disponibles_coords = instaladores_disponibles[[\"Latitud\", \"Longitud\"]].values\n",
        "\n",
        "    # Calcular la distancia entre el grupo actual y los instaladores disponibles\n",
        "    distancias_disponibles = cdist([agrupados_coords[i]], disponibles_coords, metric=\"euclidean\")\n",
        "\n",
        "    # Se asigna el instalador más cercano disponible\n",
        "    while len(distancias_disponibles[0]) > 0:\n",
        "        idx_min = distancias_disponibles.argmin()\n",
        "        instalador_seleccionado = instaladores_disponibles.iloc[idx_min]\n",
        "        horas_restantes = capacidad_instaladores_dia.loc[instalador_seleccionado.name, fecha] - horas_instalacion\n",
        "\n",
        "        # Se verifica si el instalador ya tiene 2 asignaciones en la misma fecha\n",
        "        if asignaciones_por_instalador.get((instalador_seleccionado[\"Instaladores\"], fecha), 0) < 2:\n",
        "            if horas_restantes >= 0:\n",
        "                agrupados.loc[i, \"Instalador Asignado\"] = instalador_seleccionado[\"Instaladores\"]\n",
        "                agrupados.loc[i, \"Latitud Instalador\"] = instalador_seleccionado[\"Latitud\"]\n",
        "                agrupados.loc[i, \"Longitud Instalador\"] = instalador_seleccionado[\"Longitud\"]\n",
        "\n",
        "                # Restar las horas de instalación asignadas de las horas disponibles del instalador para esa fecha\n",
        "                capacidad_instaladores_dia.loc[instalador_seleccionado.name, fecha] = horas_restantes\n",
        "\n",
        "                # Actualizar el contador de asignaciones\n",
        "                asignaciones_por_instalador[(instalador_seleccionado[\"Instaladores\"], fecha)] = asignaciones_por_instalador.get((instalador_seleccionado[\"Instaladores\"], fecha), 0) + 1\n",
        "                break\n",
        "        else:\n",
        "            # Eliminar el instalador no válido y recalcular distancias\n",
        "            distancias_disponibles = np.delete(distancias_disponibles, idx_min, axis=1)\n",
        "            instaladores_disponibles = instaladores_disponibles.drop(instalador_seleccionado.name)\n",
        "\n",
        "# Añadir la columna \"Turno\" al final del DataFrame\n",
        "agrupados[\"Turno\"] = np.nan\n",
        "\n",
        "# Guardar el resultado en un nuevo archivo Excel\n",
        "agrupados.to_excel(\"/content/drive/MyDrive/Agrupados_asignados_instaladores.xlsx\", index=False)\n",
        "capacidad_instaladores_dia.to_excel('/content/drive/MyDrive/Capacidad_instaladores_dia_actualizado.xlsx', index=False)\n"
      ],
      "metadata": {
        "colab": {
          "base_uri": "https://localhost:8080/"
        },
        "id": "15flX-LzJvTd",
        "outputId": "02d65b21-09d3-436a-8d23-ae77f0893f68"
      },
      "execution_count": 13,
      "outputs": [
        {
          "output_type": "stream",
          "name": "stderr",
          "text": [
            "<ipython-input-13-5b3e2729851a>:45: FutureWarning: Setting an item of incompatible dtype is deprecated and will raise an error in a future version of pandas. Value 'Prov24_inst1' has dtype incompatible with float64, please explicitly cast to a compatible dtype first.\n",
            "  agrupados.loc[i, \"Instalador Asignado\"] = instalador_seleccionado[\"Instaladores\"]\n"
          ]
        }
      ]
    },
    {
      "cell_type": "markdown",
      "source": [
        "### SE ASIGNAN LOS TURNOS DE ENTREGA"
      ],
      "metadata": {
        "id": "LAsjHXkjzMaA"
      }
    },
    {
      "cell_type": "code",
      "source": [
        "import pandas as pd\n",
        "\n",
        "# Sobre el fichero anterior:\n",
        "ruta_archivo = '/content/drive/MyDrive/Agrupados_asignados_instaladores.xlsx'\n",
        "df = pd.read_excel(ruta_archivo, engine='openpyxl')\n",
        "\n",
        "# Se define la función para asignar turnos\n",
        "def asignar_turno(fila, turnos_asignados, turnos_instaladores, instaladores_cluster):\n",
        "    cluster = fila['cluster_ajustado']\n",
        "    fecha = fila['FECHA COMP INICIAL']\n",
        "    horas = fila['Horas_instalacion']\n",
        "    instalador = fila['Instalador Asignado']\n",
        "    direccion = fila['DIRECCION']\n",
        "\n",
        "    # Se verifica si el cluster y la fecha ya tienen turnos asignados\n",
        "    if (cluster, fecha) in turnos_asignados:\n",
        "        turnos_existentes = turnos_asignados[(cluster, fecha)]\n",
        "    else:\n",
        "        turnos_existentes = set()\n",
        "\n",
        "    # Se verifica si el instalador ya tiene turnos asignados en la misma fecha\n",
        "    if (instalador, fecha) in turnos_instaladores:\n",
        "        clusters_instalador = turnos_instaladores[(instalador, fecha)]\n",
        "    else:\n",
        "        clusters_instalador = []\n",
        "\n",
        "    # Se verifica si el cluster ya tiene instaladores asignados en la misma fecha\n",
        "    if (cluster, fecha) in instaladores_cluster:\n",
        "        lista_instaladores_cluster = instaladores_cluster[(cluster, fecha)]\n",
        "    else:\n",
        "        lista_instaladores_cluster = []\n",
        "\n",
        "    # Criterios de asignación basado en las horas y los turnos\n",
        "    if horas == 8:\n",
        "        turno = 'DC'\n",
        "    elif len(clusters_instalador) == 1:\n",
        "        # Si el instalador solo tiene un cluster asignado en la misma fecha, asignar el turno contrario\n",
        "        if clusters_instalador[0][1] == 'M':\n",
        "            turno = 'T'\n",
        "        else:\n",
        "            turno = 'M'\n",
        "    elif 'M' not in turnos_existentes and sum([h for h in turnos_asignados.get((cluster, fecha), []) if isinstance(h, int)]) < 7:\n",
        "        turno = 'M'\n",
        "    else:\n",
        "        # Asignar turno de tarde 'T' solo si las horas no superan 4\n",
        "        if horas <= 4:\n",
        "            turno = 'T'\n",
        "        else:\n",
        "            turno = 'M'\n",
        "\n",
        "    # Si hay dos o más instaladores en el mismo cluster y fecha con la misma dirección, asignar el mismo turno\n",
        "    for inst in lista_instaladores_cluster:\n",
        "        if inst[2] == direccion:\n",
        "            turno = inst[1]\n",
        "            break\n",
        "\n",
        "    # Se verifica que un turno de tarde \"T\" no tenga más de 4 horas\n",
        "    if turno == 'T' y horas > 4:\n",
        "        turno = 'M'\n",
        "\n",
        "    # Se verifica que un turno de mañana \"M\" no tenga más de 6 horas para el mismo instalador y día\n",
        "    if turno == 'M' and sum([h for c, s in clusters_instalador if s == 'M' for h in turnos_asignados.get((c, fecha), []) if isinstance(h, int)]) + horas > 6:\n",
        "        # Asignar turno de tarde 'T' solo si las horas no superan 4\n",
        "        if horas <= 4:\n",
        "            turno = 'T'\n",
        "        else:\n",
        "            turno = 'M'\n",
        "\n",
        "    # Se actualizan los turnos\n",
        "    turnos_asignados.setdefault((cluster, fecha), []).append(horas)\n",
        "    turnos_asignados[(cluster, fecha)].append(turno)\n",
        "\n",
        "    # Se actualizan los clusters asignados al instalador\n",
        "    turnos_instaladores.setdefault((instalador, fecha), []).append((cluster, turno))\n",
        "\n",
        "    # Se actualizan los instaladores asignados al cluster\n",
        "    instaladores_cluster.setdefault((cluster, fecha), []).append((instalador, turno, direccion))\n",
        "\n",
        "    return turno\n",
        "\n",
        "# Se inicializan los diccionarios para llevar el registro de los turnos asignados y los clusters por instalador y por cluster\n",
        "turnos_asignados = {}\n",
        "turnos_instaladores = {}\n",
        "instaladores_cluster = {}\n",
        "\n",
        "# Se aplica la función para asignar turnos\n",
        "df['Turno'] = df.apply(asignar_turno, axis=1, turnos_asignados=turnos_asignados, turnos_instaladores=turnos_instaladores, instaladores_cluster=instaladores_cluster)\n",
        "\n",
        "# Guardar\n",
        "ruta_archivo_salida = '/content/drive/MyDrive/Agrupados_asignados_instaladores.xlsx'\n",
        "df.to_excel(ruta_archivo_salida, index=False)\n"
      ],
      "metadata": {
        "id": "5SBPbtgsCA8o"
      },
      "execution_count": null,
      "outputs": []
    },
    {
      "cell_type": "markdown",
      "source": [
        "### CREAR LAS ORDENES DE TRABAJO. En pdf se envia por correo la orden de trabajo indicando al instalador el domicilio, máquinas a instalar y el día de instalación"
      ],
      "metadata": {
        "id": "zkS81yikRtU1"
      }
    },
    {
      "cell_type": "code",
      "source": [
        "!pip install fpdf"
      ],
      "metadata": {
        "colab": {
          "base_uri": "https://localhost:8080/"
        },
        "id": "RkjY7-2eLfor",
        "outputId": "4af9e1f5-9776-4bf6-dc9c-df852b8adcea"
      },
      "execution_count": null,
      "outputs": [
        {
          "output_type": "stream",
          "name": "stdout",
          "text": [
            "Collecting fpdf\n",
            "  Downloading fpdf-1.7.2.tar.gz (39 kB)\n",
            "  Preparing metadata (setup.py) ... \u001b[?25l\u001b[?25hdone\n",
            "Building wheels for collected packages: fpdf\n",
            "  Building wheel for fpdf (setup.py) ... \u001b[?25l\u001b[?25hdone\n",
            "  Created wheel for fpdf: filename=fpdf-1.7.2-py2.py3-none-any.whl size=40704 sha256=c26699ef515b6710a97798bf7c6fd3f1ca7359b5b802ebc5a047b663502601ac\n",
            "  Stored in directory: /root/.cache/pip/wheels/65/4f/66/bbda9866da446a72e206d6484cd97381cbc7859a7068541c36\n",
            "Successfully built fpdf\n",
            "Installing collected packages: fpdf\n",
            "Successfully installed fpdf-1.7.2\n"
          ]
        }
      ]
    },
    {
      "cell_type": "code",
      "source": [
        "from fpdf import FPDF\n",
        "import os\n",
        "import pandas as pd\n",
        "# Cargar el archivo con los datos agrupados y asignados\n",
        "agrupados = pd.read_excel(\"/content/drive/MyDrive/Agrupados_asignados_instaladores.xlsx\", engine='openpyxl')\n",
        "# Se crea el directorio para guardar los PDFs\n",
        "output_dir = \"/content/drive/MyDrive/PDF ORDENES DE TRABAJO\"\n",
        "os.makedirs(output_dir, exist_ok=True)\n",
        "# Crear un PDF para cada 'Instalador Asignado'\n",
        "for instalador in agrupados[\"Instalador Asignado\"].unique():\n",
        "    pdf = FPDF()\n",
        "    pdf.add_page()\n",
        "    pdf.set_font(\"Arial\", size=12)\n",
        "    # Se filtran datos por 'Instalador Asignado'\n",
        "    subset = agrupados[agrupados[\"Instalador Asignado\"] == instalador]\n",
        "    # Agregar título al PDF\n",
        "    pdf.cell(200, 10, txt=f\"Orden de trabajo para el Instalador: {instalador}\", ln=True, align='C')\n",
        "    # Agrupación por 'FECHA COMP INICIAL' y 'Dirección'\n",
        "    grouped = subset.groupby(['FECHA COMP INICIAL', 'DIRECCION', 'Latitud', 'Longitud', 'NUMERO'])\n",
        "\n",
        "    for (fecha, direccion, latitud, longitud, numero), group in grouped:\n",
        "        pdf.cell(200, 10, txt=f\"FECHA COMP INICIAL: {fecha}\", ln=True)\n",
        "        pdf.cell(200, 10, txt=f\"Dirección: {direccion} {numero}\", ln=True)\n",
        "                # Verificar si 'Solo_CP' es VERDADERO y agregar \"Código Postal\"\n",
        "        if group[\"Solo_CP\"].iloc[0]:  # Asumiendo que todos los valores en el grupo son iguales\n",
        "            pdf.cell(200, 10, txt=f\"Latitud: {latitud}, Longitud: {longitud} (Código Postal)\", ln=True)\n",
        "        else:\n",
        "            pdf.cell(200, 10, txt=f\"Latitud: {latitud}, Longitud: {longitud}\", ln=True)\n",
        "\n",
        "        for index, row in group.iterrows():\n",
        "            pdf.cell(200, 10, txt=f\"FAMILIA: {row['FAMILIA']}\", ln=True)\n",
        "            pdf.cell(200, 10, txt=f\"BARRA: {row['BARRA']}\", ln=True)\n",
        "            pdf.cell(200, 10, txt=f\"DESC. ARTICULO: {row['DESC. ARTICULO']}\", ln=True)\n",
        "            pdf.cell(200, 10, txt=\"------------------------------------------------------\", ln=True)\n",
        "    # Guardar el PDF\n",
        "    pdf_filename = os.path.join(output_dir, f\"{instalador}_asignado.pdf\")\n",
        "    pdf.output(pdf_filename)\n",
        "\n",
        "print(\"Asignación completada y PDFs generados y guardados en '/content/drive/MyDrive/PDF ORDENES DE TRABAJO'.\")\n"
      ],
      "metadata": {
        "colab": {
          "base_uri": "https://localhost:8080/"
        },
        "id": "OMRkgIWIk5t7",
        "outputId": "5ae69b64-37a7-414d-d6c0-6aeab3775bb2"
      },
      "execution_count": null,
      "outputs": [
        {
          "output_type": "stream",
          "name": "stdout",
          "text": [
            "Asignación completada y PDFs generados y guardados en '/content/drive/MyDrive/PDF ORDENES DE TRABAJO'.\n"
          ]
        }
      ]
    },
    {
      "cell_type": "markdown",
      "source": [
        "### ENVIO ORDENES DE TRABAJO POR EMAIL. Se envían todas las ordenes de trabajo a los instaladores asignados. (con mi email los prov10, 17, 18 y 30)"
      ],
      "metadata": {
        "id": "dHQJPrXbenNO"
      }
    },
    {
      "cell_type": "code",
      "source": [
        "import smtplib\n",
        "from email.mime.multipart import MIMEMultipart\n",
        "from email.mime.text import MIMEText\n",
        "from email.mime.base import MIMEBase\n",
        "from email import encoders\n",
        "import os\n",
        "import pandas as pd\n",
        "import time\n",
        "\n",
        "# Se configura del servidor SMTP y credenciales de la cuenta de correo\n",
        "smtp_server = 'smtp.mail.yahoo.com'\n",
        "smtp_port = 587\n",
        "email_user = 'jdgf.2007@yahoo.es'\n",
        "email_password = 'ydovcqwtubnwlmhc'\n",
        "\n",
        "# Ruta del archivo Excel y la carpeta que contiene los archivos PDF\n",
        "excel_path = '/content/drive/MyDrive/Capacidad_instaladores_dia_actualizado.xlsx'\n",
        "folder_path = '/content/drive/MyDrive/PDF ORDENES DE TRABAJO'\n",
        "\n",
        "# Leer el archivo Excel\n",
        "df = pd.read_excel(excel_path, engine='openpyxl')\n",
        "\n",
        "# Crear el objeto del mensaje\n",
        "msg = MIMEMultipart()\n",
        "msg['From'] = email_user\n",
        "msg['Subject'] = 'Orden de trabajo instalación ECI'\n",
        "\n",
        "# Cuerpo del mensaje\n",
        "body = 'Adjunto encontrarás las ordenes de trabajo con la dirección del cliente y los equipos para su instalación.'\n",
        "msg.attach(MIMEText(body, 'plain'))\n",
        "\n",
        "# Función para enviar el correo con reintentos\n",
        "def enviar_correo(email_to, msg):\n",
        "    for i in range(3):  # Intentar 3 veces\n",
        "        try:\n",
        "            # Conectar al servidor SMTP\n",
        "            server = smtplib.SMTP(smtp_server, smtp_port, timeout=10)\n",
        "            server.starttls()\n",
        "            server.login(email_user, email_password)\n",
        "            text = msg.as_string()\n",
        "            server.sendmail(email_user, email_to, text)\n",
        "            server.quit()\n",
        "            print(f\"Correo enviado exitosamente a {email_to}\")\n",
        "            break\n",
        "        except smtplib.SMTPServerDisconnected:\n",
        "            print(f\"Intento {i+1}: Conexión cerrada inesperadamente. Reintentando...\")\n",
        "            time.sleep(5)  # Esperar 5 segundos antes de reintentar\n",
        "        except Exception as e:\n",
        "            print(f\"Error al enviar el correo a {email_to}: {e}\")\n",
        "            break\n",
        "\n",
        "# Se adjunta a cada archivo PDF en la carpeta al correo electrónico\n",
        "for filename in os.listdir(folder_path):\n",
        "    if filename.endswith('.pdf'):\n",
        "        # Obtener el código del instalador desde el nombre del archivo PDF\n",
        "        installer_code = filename.replace('_asignado.pdf', '')\n",
        "\n",
        "        # Buscar el correo electrónico del instalador en el archivo Excel\n",
        "        email_to = df.loc[df['Instaladores'] == installer_code, 'EMAIL'].values[0]\n",
        "\n",
        "        # Asignar la dirección de correo del destinatario al mensaje\n",
        "        msg['To'] = email_to\n",
        "\n",
        "        file_path = os.path.join(folder_path, filename)\n",
        "        attachment = open(file_path, 'rb')\n",
        "\n",
        "        part = MIMEBase('application', 'octet-stream')\n",
        "        part.set_payload(attachment.read())\n",
        "        encoders.encode_base64(part)\n",
        "        part.add_header('Content-Disposition', f'attachment; filename= {filename}')\n",
        "\n",
        "        msg.attach(part)\n",
        "\n",
        "        # Enviar el correo electrónico\n",
        "        enviar_correo(email_to, msg)\n",
        "\n",
        "print(\"Correos enviados\")\n"
      ],
      "metadata": {
        "colab": {
          "base_uri": "https://localhost:8080/"
        },
        "collapsed": true,
        "id": "YinRPsjYdRX7",
        "outputId": "aa8095c6-6843-4197-92eb-8d9fdd8061ff"
      },
      "execution_count": null,
      "outputs": [
        {
          "output_type": "stream",
          "name": "stdout",
          "text": [
            "Correo enviado exitosamente a jdgf.2007@gmail.com\n",
            "Correo enviado exitosamente a jdgf.2007@gmail.com\n",
            "Correo enviado exitosamente a jdgf.2007@gmail.com\n",
            "Correos enviados\n"
          ]
        }
      ]
    },
    {
      "cell_type": "markdown",
      "source": [
        "### SIGUIENTE DÍA DE GESTIÓN DE RESERVAS DE CLIENTES"
      ],
      "metadata": {
        "id": "oxpBKzIee8P0"
      }
    },
    {
      "cell_type": "markdown",
      "source": [
        "###Se añaden al fichero que contiene todas las reservas con su evolución los datos de las reservas que ya han sido gestionadas, para disponer del dato agregado."
      ],
      "metadata": {
        "id": "j49yJRiO8l2t"
      }
    },
    {
      "cell_type": "code",
      "source": [
        "import pandas as pd\n",
        "\n",
        "# Ruta de los archivos Excel\n",
        "file_ultimas_reservas = '/content/drive/MyDrive/Ultimas reservas.xlsx'\n",
        "file_agrupados_asignados = '/content/drive/MyDrive/Agrupados_asignados_instaladores.xlsx'\n",
        "\n",
        "# Leer los archivos Excel\n",
        "df_ultimas_reservas = pd.read_excel(file_ultimas_reservas, engine='openpyxl')\n",
        "df_agrupados_asignados = pd.read_excel(file_agrupados_asignados, engine='openpyxl')\n",
        "\n",
        "# Crear un nuevo DataFrame con las columnas adicionales\n",
        "columnas_adicionales = [\"Latitud\", \"Longitud\", \"Solo_CP\", \"Horas_instalacion\", \"cluster\", \"cluster_ajustado\", \"total_horas\", \"Instalador Asignado\", \"Latitud Instalador\", \"Longitud Instalador\", \"Turno\"]\n",
        "df_nuevo = df_ultimas_reservas.copy()\n",
        "\n",
        "for columna in columnas_adicionales:\n",
        "    df_nuevo[columna] = None\n",
        "\n",
        "# Rellenar las columnas adicionales con los valores del fichero 'Agrupados_asignados_instaladores.xlsx' que coincidan con 'RESERVA' y 'BARRA'\n",
        "for index, row in df_nuevo.iterrows():\n",
        "    reserva = row['RESERVA']\n",
        "    barra = row['BARRA']\n",
        "    matching_row = df_agrupados_asignados[(df_agrupados_asignados['RESERVA'] == reserva) & (df_agrupados_asignados['BARRA'] == barra)]\n",
        "\n",
        "    if not matching_row.empty:\n",
        "        for columna in columnas_adicionales:\n",
        "            df_nuevo.at[index, columna] = matching_row.iloc[0][columna]\n",
        "\n",
        "# Guardar el nuevo DataFrame en un archivo Excel\n",
        "output_file_instalaciones = '/content/drive/MyDrive/Ultimas_reservas_instalaciones.xlsx'\n",
        "df_nuevo.to_excel(output_file_instalaciones, index=False)\n",
        "\n",
        "print(f\"El archivo '{output_file_instalaciones}' ha sido creado.\")"
      ],
      "metadata": {
        "colab": {
          "base_uri": "https://localhost:8080/"
        },
        "id": "TksecSQt6zj_",
        "outputId": "5bbebc51-47d6-4a40-ec83-3b6619d4ae1e"
      },
      "execution_count": 15,
      "outputs": [
        {
          "output_type": "stream",
          "name": "stdout",
          "text": [
            "El archivo '/content/drive/MyDrive/Ultimas_reservas_instalaciones.xlsx' ha sido creado.\n"
          ]
        }
      ]
    },
    {
      "cell_type": "markdown",
      "source": [
        "### Se eliminan las reservas ya gestionadas."
      ],
      "metadata": {
        "id": "EJr95RqFhfNd"
      }
    },
    {
      "cell_type": "code",
      "source": [
        "import pandas as pd\n",
        "\n",
        "# Ruta de los archivos Excel\n",
        "file_ultimas_reservas = '/content/drive/MyDrive/Ultimas reservas.xlsx'\n",
        "file_ultimas_reservas_instalaciones = '/content/drive/MyDrive/Ultimas_reservas_instalaciones.xlsx'\n",
        "\n",
        "# Leer los archivos Excel\n",
        "df_ultimas_reservas = pd.read_excel(file_ultimas_reservas, engine='openpyxl')\n",
        "df_ultimas_reservas_instalaciones = pd.read_excel(file_ultimas_reservas_instalaciones, engine='openpyxl')\n",
        "\n",
        "# Filtrar las filas del fichero 'Ultimas_reservas_instalaciones' que tienen algún dato en la columna 'Latitud'\n",
        "df_ultimas_reservas_instalaciones_filtrado = df_ultimas_reservas_instalaciones[df_ultimas_reservas_instalaciones['Latitud'].notna()]\n",
        "\n",
        "# Eliminar las filas del fichero 'Ultimas reservas' que ya se encuentran en el fichero 'Ultimas_reservas_instalaciones_filtrado' según las columnas 'RESERVA' y 'BARRA'\n",
        "df_ultimas_reservas_reales = df_ultimas_reservas[~df_ultimas_reservas.set_index(['RESERVA', 'BARRA']).index.isin(df_ultimas_reservas_instalaciones_filtrado.set_index(['RESERVA', 'BARRA']).index)]\n",
        "\n",
        "# Guardar el resultado en un nuevo archivo Excel\n",
        "output_file = '/content/drive/MyDrive/Ultimas reservas_consolidado.xlsx'\n",
        "df_ultimas_reservas_reales.to_excel(output_file, index=False)\n",
        "\n",
        "print(f\"El archivo '{output_file}' ha sido creado.\")\n"
      ],
      "metadata": {
        "colab": {
          "base_uri": "https://localhost:8080/"
        },
        "id": "8sLcDtdhEA-Z",
        "outputId": "47992639-1e37-4d32-a15c-39bca054a9eb"
      },
      "execution_count": 16,
      "outputs": [
        {
          "output_type": "stream",
          "name": "stdout",
          "text": [
            "El archivo '/content/drive/MyDrive/Ultimas reservas_consolidado.xlsx' ha sido creado.\n"
          ]
        }
      ]
    },
    {
      "cell_type": "markdown",
      "source": [
        "### SE REPITEN LOS PASOS. FICHERO CON COORDENADAS Y HORAS DE INSTALACIÓN NECESARIAS. A las direcciones que no localiza se asignan las coordenadas del código postal."
      ],
      "metadata": {
        "id": "yuAqmXg6hkvq"
      }
    },
    {
      "cell_type": "code",
      "source": [
        "import pandas as pd\n",
        "from geopy.geocoders import Nominatim\n",
        "from geopy.exc import GeocoderTimedOut\n",
        "import time\n",
        "from openpyxl import load_workbook\n",
        "from openpyxl.styles import PatternFill\n",
        "\n",
        "# Se crea un objeto geolocalizador\n",
        "geolocator = Nominatim(user_agent=\"mi_aplicacion\", timeout=10)\n",
        "\n",
        "# Archivo Excel\n",
        "df = pd.read_excel('/content/drive/MyDrive/Ultimas reservas_consolidado.xlsx', sheet_name='Sheet1', engine='openpyxl')\n",
        "\n",
        "# Función para obtener coordenadas con pausa\n",
        "def obtener_coordenadas_con_pausa(row):\n",
        "    direccion = f\"{row['CALLE']}, {row['NUMERO']}, {row['CP']}, Madrid, España\"\n",
        "    try:\n",
        "        location = geolocator.geocode(direccion)\n",
        "        time.sleep(1)  # Pausa de 1 segundo entre solicitudes\n",
        "        if location:\n",
        "            return location.latitude, location.longitude, False\n",
        "        else:\n",
        "            # Intentar obtener coordenadas solo con el código postal\n",
        "            direccion_cp = f\"{row['CP']}, Madrid, España\"\n",
        "            location_cp = geolocator.geocode(direccion_cp)\n",
        "            time.sleep(1)  # Pausa de 1 segundo entre solicitudes\n",
        "            if location_cp:\n",
        "                return location_cp.latitude, location_cp.longitude, True\n",
        "            else:\n",
        "                return None, None, False\n",
        "    except GeocoderTimedOut:\n",
        "        return obtener_coordenadas_con_pausa(row)\n",
        "\n",
        "# Se aplica la función a cada fila del archivo\n",
        "df['Latitud'], df['Longitud'], df['Solo_CP'] = zip(*df.apply(obtener_coordenadas_con_pausa, axis=1))\n",
        "\n",
        "# Se añade la columna \"Horas_instalacion\" según las condiciones\n",
        "def calcular_horas_instalacion(row):\n",
        "    if row['FAMILIA'] == 810:\n",
        "        return row['UNIDADES'] * 2\n",
        "    elif row['FAMILIA'] == 811:\n",
        "        return row['UNIDADES'] * 4\n",
        "    elif row['FAMILIA'] == 812:\n",
        "        return row['UNIDADES'] * 6\n",
        "    elif row['FAMILIA'] == 813:\n",
        "        return row['UNIDADES'] * 6\n",
        "    elif row['FAMILIA'] == 816:\n",
        "        return row['UNIDADES'] * 2\n",
        "    elif row['FAMILIA'] == 818:\n",
        "        return row['UNIDADES'] * 2\n",
        "    elif row['FAMILIA'] == 820:\n",
        "        return row['UNIDADES'] * 4\n",
        "    elif row['FAMILIA'] == 822:\n",
        "        return row['UNIDADES'] * 8\n",
        "    elif row['FAMILIA'] == 824:\n",
        "        return row['UNIDADES'] * 6\n",
        "    else:\n",
        "        return None\n",
        "df['Horas_instalacion'] = df.apply(calcular_horas_instalacion, axis=1)\n",
        "\n",
        "# Se guarda\n",
        "output_path = '/content/drive/MyDrive/Ultimas reservas_coord_horas.xlsx'\n",
        "df.to_excel(output_path, index=False)\n",
        "\n",
        "# Formato de color rojo a las coordenadas asignadas solo por CP\n",
        "wb = load_workbook(output_path)\n",
        "ws = wb.active\n",
        "\n",
        "# Estilo de color rojo para las celdas\n",
        "red_fill = PatternFill(start_color=\"FFFF0000\", end_color=\"FFFF0000\", fill_type=\"solid\")\n",
        "\n",
        "# Se aplica el estilo a las celdas correspondientes\n",
        "for index, row in df.iterrows():\n",
        "    if row['Solo_CP']:\n",
        "        ws[f'W{index + 2}'].fill = red_fill  # Columna C para Latitud\n",
        "        ws[f'X{index + 2}'].fill = red_fill  # Columna D para Longitud\n",
        "\n",
        "# Guardar los cambios\n",
        "wb.save(output_path)\n",
        "\n",
        "print(\"Las coordenadas y la nueva columna 'Horas_instalacion' se han añadido y el archivo se ha guardado como 'Ultimas reservas_coord_horas.xlsx'. Las coordenadas asignadas solo por CP se han marcado en color rojo.\")\n"
      ],
      "metadata": {
        "colab": {
          "base_uri": "https://localhost:8080/"
        },
        "id": "-XN9hWNTlQRE",
        "outputId": "5ca67ecb-61a2-409b-ee1f-bffa2637f69a"
      },
      "execution_count": 17,
      "outputs": [
        {
          "output_type": "stream",
          "name": "stdout",
          "text": [
            "Las coordenadas y la nueva columna 'Horas_instalacion' se han añadido y el archivo se ha guardado como 'Ultimas reservas_coord_horas.xlsx'. Las coordenadas asignadas solo por CP se han marcado en color rojo.\n"
          ]
        }
      ]
    },
    {
      "cell_type": "markdown",
      "source": [
        "### AGRUPAR POR CERCANIA A LOS CLIENTES. EPS = 0.02 rádio de 2,22K"
      ],
      "metadata": {
        "id": "WHvpG4CgJ0Sn"
      }
    },
    {
      "cell_type": "code",
      "source": [
        "import pandas as pd\n",
        "from sklearn.cluster import DBSCAN\n",
        "import numpy as np\n",
        "\n",
        "# Cargar los datos\n",
        "data = pd.read_excel('/content/drive/MyDrive/Ultimas reservas_coord_horas.xlsx', sheet_name='Sheet1')\n",
        "\n",
        "# Función para agrupar por cercanía sin restricciones\n",
        "def agrupar_por_cercania(data, eps=0.02, min_samples=1):\n",
        "    agrupados = []\n",
        "\n",
        "    # Se itera sobre cada FECHA COMP INICIAL\n",
        "    for fecha in data[\"FECHA COMP INICIAL\"].unique():\n",
        "        subset = data[data[\"FECHA COMP INICIAL\"] == fecha]\n",
        "\n",
        "        # DBSCAN para agrupar por latitud y longitud\n",
        "        coords = subset[[\"Latitud\", \"Longitud\"]].values\n",
        "        db = DBSCAN(eps=eps, min_samples=min_samples).fit(coords)\n",
        "        subset[\"cluster\"] = db.labels_\n",
        "\n",
        "        agrupados.append(subset)\n",
        "\n",
        "    return pd.concat(agrupados)\n",
        "\n",
        "# Guardar el resultado\n",
        "agrupados = agrupar_por_cercania(data)\n",
        "agrupados.to_excel(\"/content/drive/MyDrive/Clientes_agrupados_sin_restricciones.xlsx\", index=False)\n",
        "\n",
        "# Añadir columna \"cluster_ajustado\" según las reglas\n",
        "def ajustar_clusters(data):\n",
        "    data[\"cluster_ajustado\"] = \"\"\n",
        "\n",
        "    for cluster in data[\"cluster\"].unique():\n",
        "        cluster_data = data[data[\"cluster\"] == cluster]\n",
        "\n",
        "        total_hours = 0\n",
        "        sub_cluster_id = 0\n",
        "        lat_lon_dict = {}\n",
        "\n",
        "        for index, row in cluster_data.iterrows():\n",
        "            lat_lon = (row[\"Latitud\"], row[\"Longitud\"])\n",
        "\n",
        "            if lat_lon in lat_lon_dict:\n",
        "                # Sumar las horas de instalación para latitudes y longitudes iguales\n",
        "                total_hours += row[\"Horas_instalacion\"]\n",
        "                data.loc[index, \"cluster_ajustado\"] = lat_lon_dict[lat_lon]\n",
        "            else:\n",
        "                # Se verifica si hay una sola longitud y latitud en el cluster\n",
        "                if len(cluster_data[\"Latitud\"].unique()) == 1 and len(cluster_data[\"Longitud\"].unique()) == 1:\n",
        "                    threshold = 8\n",
        "                else:\n",
        "                    threshold = 6\n",
        "\n",
        "                # Se suman las horas de instalación de todas las filas con la misma latitud y longitud\n",
        "                same_lat_lon_hours = cluster_data[(cluster_data[\"Latitud\"] == row[\"Latitud\"]) & (cluster_data[\"Longitud\"] == row[\"Longitud\"])][\"Horas_instalacion\"].sum()\n",
        "\n",
        "                if total_hours + same_lat_lon_hours > threshold:\n",
        "                    sub_cluster_id += 1\n",
        "                    total_hours = row[\"Horas_instalacion\"]\n",
        "                else:\n",
        "                    total_hours += row[\"Horas_instalacion\"]\n",
        "\n",
        "                cluster_ajustado = f\"{cluster}_{sub_cluster_id}\"\n",
        "                data.loc[index, \"cluster_ajustado\"] = cluster_ajustado\n",
        "                lat_lon_dict[lat_lon] = cluster_ajustado\n",
        "\n",
        "    # Se suma el total de \"Horas_instalacion\" de cada \"cluster_ajustado\" por \"FECHA COMP INICIAL\" y asignar \"manual\" si es mayor de 8\n",
        "    for fecha in data[\"FECHA COMP INICIAL\"].unique():\n",
        "        fecha_data = data[data[\"FECHA COMP INICIAL\"] == fecha]\n",
        "        for cluster_ajustado in fecha_data[\"cluster_ajustado\"].unique():\n",
        "            if fecha_data[fecha_data[\"cluster_ajustado\"] == cluster_ajustado][\"Horas_instalacion\"].sum() > 8:\n",
        "                data.loc[(data[\"FECHA COMP INICIAL\"] == fecha) & (data[\"cluster_ajustado\"] == cluster_ajustado), \"cluster_ajustado\"] = \"MANUAL\"\n",
        "\n",
        "    return data\n",
        "\n",
        "# Se ajustan los clusters y se guarda el resultado\n",
        "data_ajustada = ajustar_clusters(agrupados)\n",
        "\n",
        "# Crear una columna con la suma de horas por cluster y fecha\n",
        "data_ajustada['total_horas'] = data_ajustada.groupby(['FECHA COMP INICIAL', 'cluster_ajustado'])['Horas_instalacion'].transform('sum')\n",
        "\n",
        "# Función para aplicar el estilo\n",
        "def highlight_equal_8(s):\n",
        "    is_equal_8 = s == 8\n",
        "    return ['background-color: yellow' if v else '' for v in is_equal_8]\n",
        "\n",
        "# Se aplica el estilo\n",
        "styled_data = data_ajustada.style.apply(highlight_equal_8, subset=['total_horas'])\n",
        "\n",
        "# Guardar\n",
        "styled_data.to_excel(\"/content/drive/MyDrive/Clientes_agrupados_n+1.xlsx\", index=False)\n",
        "\n",
        "print(\"Clusters ajustados y guardados en 'Clientes_agrupados_n+1.xlsx'\")"
      ],
      "metadata": {
        "colab": {
          "base_uri": "https://localhost:8080/"
        },
        "id": "1WJGGWuh4d7r",
        "outputId": "8b57dc6b-1655-47b5-c616-507b5b41bb61"
      },
      "execution_count": 18,
      "outputs": [
        {
          "output_type": "stream",
          "name": "stderr",
          "text": [
            "<ipython-input-18-30ef7f31120b>:19: SettingWithCopyWarning: \n",
            "A value is trying to be set on a copy of a slice from a DataFrame.\n",
            "Try using .loc[row_indexer,col_indexer] = value instead\n",
            "\n",
            "See the caveats in the documentation: https://pandas.pydata.org/pandas-docs/stable/user_guide/indexing.html#returning-a-view-versus-a-copy\n",
            "  subset[\"cluster\"] = db.labels_\n",
            "<ipython-input-18-30ef7f31120b>:19: SettingWithCopyWarning: \n",
            "A value is trying to be set on a copy of a slice from a DataFrame.\n",
            "Try using .loc[row_indexer,col_indexer] = value instead\n",
            "\n",
            "See the caveats in the documentation: https://pandas.pydata.org/pandas-docs/stable/user_guide/indexing.html#returning-a-view-versus-a-copy\n",
            "  subset[\"cluster\"] = db.labels_\n",
            "<ipython-input-18-30ef7f31120b>:19: SettingWithCopyWarning: \n",
            "A value is trying to be set on a copy of a slice from a DataFrame.\n",
            "Try using .loc[row_indexer,col_indexer] = value instead\n",
            "\n",
            "See the caveats in the documentation: https://pandas.pydata.org/pandas-docs/stable/user_guide/indexing.html#returning-a-view-versus-a-copy\n",
            "  subset[\"cluster\"] = db.labels_\n",
            "<ipython-input-18-30ef7f31120b>:19: SettingWithCopyWarning: \n",
            "A value is trying to be set on a copy of a slice from a DataFrame.\n",
            "Try using .loc[row_indexer,col_indexer] = value instead\n",
            "\n",
            "See the caveats in the documentation: https://pandas.pydata.org/pandas-docs/stable/user_guide/indexing.html#returning-a-view-versus-a-copy\n",
            "  subset[\"cluster\"] = db.labels_\n",
            "<ipython-input-18-30ef7f31120b>:19: SettingWithCopyWarning: \n",
            "A value is trying to be set on a copy of a slice from a DataFrame.\n",
            "Try using .loc[row_indexer,col_indexer] = value instead\n",
            "\n",
            "See the caveats in the documentation: https://pandas.pydata.org/pandas-docs/stable/user_guide/indexing.html#returning-a-view-versus-a-copy\n",
            "  subset[\"cluster\"] = db.labels_\n",
            "<ipython-input-18-30ef7f31120b>:19: SettingWithCopyWarning: \n",
            "A value is trying to be set on a copy of a slice from a DataFrame.\n",
            "Try using .loc[row_indexer,col_indexer] = value instead\n",
            "\n",
            "See the caveats in the documentation: https://pandas.pydata.org/pandas-docs/stable/user_guide/indexing.html#returning-a-view-versus-a-copy\n",
            "  subset[\"cluster\"] = db.labels_\n",
            "<ipython-input-18-30ef7f31120b>:19: SettingWithCopyWarning: \n",
            "A value is trying to be set on a copy of a slice from a DataFrame.\n",
            "Try using .loc[row_indexer,col_indexer] = value instead\n",
            "\n",
            "See the caveats in the documentation: https://pandas.pydata.org/pandas-docs/stable/user_guide/indexing.html#returning-a-view-versus-a-copy\n",
            "  subset[\"cluster\"] = db.labels_\n"
          ]
        },
        {
          "output_type": "stream",
          "name": "stdout",
          "text": [
            "Clusters ajustados y guardados en 'Clientes_agrupados_n+1.xlsx'\n"
          ]
        }
      ]
    },
    {
      "cell_type": "markdown",
      "source": [
        "### ASIGNAR A LOS INSTALADORES POR CERCANIA Y EN FUNCIÓN DE SU CAPACIDAD DISPONIBLE (SI NO HAY INSTALADORES DISPONIBLES SE INDICA \"SIN INSTALADOR\")"
      ],
      "metadata": {
        "id": "VrUh74pVrBO6"
      }
    },
    {
      "cell_type": "code",
      "source": [
        "import pandas as pd\n",
        "import numpy as np\n",
        "from scipy.spatial.distance import cdist\n",
        "\n",
        "agrupados = pd.read_excel(\"/content/drive/MyDrive/Clientes_agrupados_n+1.xlsx\")\n",
        "capacidad_instaladores_dia = pd.read_excel('/content/drive/MyDrive/Capacidad_instaladores_dia_actualizado.xlsx', engine='openpyxl')\n",
        "\n",
        "# Extraer coordenadas de agrupados e instaladores\n",
        "agrupados_coords = agrupados[[\"Latitud\", \"Longitud\"]].values\n",
        "instaladores_coords = capacidad_instaladores_dia[[\"Latitud\", \"Longitud\"]].values\n",
        "# Calcular la distancia entre cada grupo y cada instalador\n",
        "distancias = cdist(agrupados_coords, instaladores_coords, metric=\"euclidean\")\n",
        "\n",
        "# Inicializar una columna para el instalador asignado\n",
        "agrupados[\"Instalador Asignado\"] = np.nan\n",
        "agrupados[\"Latitud Instalador\"] = np.nan\n",
        "agrupados[\"Longitud Instalador\"] = np.nan\n",
        "\n",
        "# Inicializar un diccionario para contar las asignaciones por instalador y fecha\n",
        "asignaciones_por_instalador = {}\n",
        "\n",
        "# Iterar sobre cada grupo\n",
        "for i in range(len(agrupados)):\n",
        "    fecha = agrupados.loc[i, \"FECHA COMP INICIAL\"]\n",
        "    horas_instalacion = agrupados.loc[i, \"Horas_instalacion\"]\n",
        "\n",
        "    # Se filtran los instaladores que tienen horas disponibles para la fecha\n",
        "    instaladores_disponibles = capacidad_instaladores_dia[capacidad_instaladores_dia[fecha] >= horas_instalacion]\n",
        "\n",
        "    # Se obtienen las coordenadas de los instaladores disponibles\n",
        "    disponibles_coords = instaladores_disponibles[[\"Latitud\", \"Longitud\"]].values\n",
        "\n",
        "    # Calcular la distancia entre el grupo actual y los instaladores disponibles\n",
        "    distancias_disponibles = cdist([agrupados_coords[i]], disponibles_coords, metric=\"euclidean\")\n",
        "\n",
        "    # Se asigna el instalador más cercano disponible\n",
        "    asignado = False\n",
        "    while len(distancias_disponibles[0]) > 0:\n",
        "        idx_min = distancias_disponibles.argmin()\n",
        "        instalador_seleccionado = instaladores_disponibles.iloc[idx_min]\n",
        "        horas_restantes = capacidad_instaladores_dia.loc[instalador_seleccionado.name, fecha] - horas_instalacion\n",
        "\n",
        "        # Se verifica si el instalador ya tiene 2 asignaciones en la misma fecha\n",
        "        if asignaciones_por_instalador.get((instalador_seleccionado[\"Instaladores\"], fecha), 0) < 2:\n",
        "            if horas_restantes >= 0:\n",
        "                agrupados.loc[i, \"Instalador Asignado\"] = instalador_seleccionado[\"Instaladores\"]\n",
        "                agrupados.loc[i, \"Latitud Instalador\"] = instalador_seleccionado[\"Latitud\"]\n",
        "                agrupados.loc[i, \"Longitud Instalador\"] = instalador_seleccionado[\"Longitud\"]\n",
        "\n",
        "                # Restar las horas de instalación asignadas de las horas disponibles del instalador para esa fecha\n",
        "                capacidad_instaladores_dia.loc[instalador_seleccionado.name, fecha] = horas_restantes\n",
        "                # Actualizar el contador de asignaciones\n",
        "                asignaciones_por_instalador[(instalador_seleccionado[\"Instaladores\"], fecha)] = asignaciones_por_instalador.get((instalador_seleccionado[\"Instaladores\"], fecha), 0) + 1\n",
        "                asignado = True\n",
        "                break\n",
        "        else:\n",
        "            # Eliminar el instalador no válido y recalcular distancias\n",
        "            distancias_disponibles = np.delete(distancias_disponibles, idx_min, axis=1)\n",
        "            instaladores_disponibles = instaladores_disponibles.drop(instalador_seleccionado.name)\n",
        "\n",
        "    # Si no se asignó ningún instalador, marcar como \"Sin instalador\"\n",
        "    if not asignado:\n",
        "        agrupados.loc[i, \"Instalador Asignado\"] = \"Sin instalador\"\n",
        "\n",
        "# Añadir la columna \"Turno\" al final del DataFrame\n",
        "agrupados[\"Turno\"] = np.nan\n",
        "# Guardar el resultado en un nuevo archivo Excel\n",
        "agrupados.to_excel(\"/content/drive/MyDrive/Agrupados_asignados_instaladores.xlsx\", index=False)\n",
        "capacidad_instaladores_dia.to_excel('/content/drive/MyDrive/Capacidad_instaladores_dia_actualizado.xlsx', index=False)\n"
      ],
      "metadata": {
        "colab": {
          "base_uri": "https://localhost:8080/"
        },
        "id": "ppnd6q5zQqtZ",
        "outputId": "d3a01f3f-4815-41d7-af09-17c5a88d1ff2"
      },
      "execution_count": 19,
      "outputs": [
        {
          "output_type": "stream",
          "name": "stderr",
          "text": [
            "<ipython-input-19-68672c897c85>:46: FutureWarning: Setting an item of incompatible dtype is deprecated and will raise an error in a future version of pandas. Value 'Prov12_inst1' has dtype incompatible with float64, please explicitly cast to a compatible dtype first.\n",
            "  agrupados.loc[i, \"Instalador Asignado\"] = instalador_seleccionado[\"Instaladores\"]\n"
          ]
        }
      ]
    },
    {
      "cell_type": "markdown",
      "source": [
        "### SE ASIGNAN LOS TURNOS DE ENTREGA"
      ],
      "metadata": {
        "id": "V7d2pyVOztIl"
      }
    },
    {
      "cell_type": "code",
      "source": [
        "import pandas as pd\n",
        "\n",
        "# Sobre el fichero anterior:\n",
        "ruta_archivo = '/content/drive/MyDrive/Agrupados_asignados_instaladores.xlsx'\n",
        "df = pd.read_excel(ruta_archivo, engine='openpyxl')\n",
        "\n",
        "# Se define la función para asignar turnos\n",
        "def asignar_turno(fila, turnos_asignados, turnos_instaladores, instaladores_cluster):\n",
        "    cluster = fila['cluster_ajustado']\n",
        "    fecha = fila['FECHA COMP INICIAL']\n",
        "    horas = fila['Horas_instalacion']\n",
        "    instalador = fila['Instalador Asignado']\n",
        "    direccion = fila['DIRECCION']\n",
        "\n",
        "    # Se verifica si el cluster y la fecha ya tienen turnos asignados\n",
        "    if (cluster, fecha) in turnos_asignados:\n",
        "        turnos_existentes = turnos_asignados[(cluster, fecha)]\n",
        "    else:\n",
        "        turnos_existentes = set()\n",
        "\n",
        "    # Se verifica si el instalador ya tiene turnos asignados en la misma fecha\n",
        "    if (instalador, fecha) in turnos_instaladores:\n",
        "        clusters_instalador = turnos_instaladores[(instalador, fecha)]\n",
        "    else:\n",
        "        clusters_instalador = []\n",
        "\n",
        "    # Se verifica si el cluster ya tiene instaladores asignados en la misma fecha\n",
        "    if (cluster, fecha) in instaladores_cluster:\n",
        "        lista_instaladores_cluster = instaladores_cluster[(cluster, fecha)]\n",
        "    else:\n",
        "        lista_instaladores_cluster = []\n",
        "\n",
        "    # Criterios de asignación basado en las horas y los turnos\n",
        "    if horas == 8:\n",
        "        turno = 'DC'\n",
        "    elif len(clusters_instalador) == 1:\n",
        "        # Si el instalador solo tiene un cluster asignado en la misma fecha, asignar el turno contrario\n",
        "        if clusters_instalador[0][1] == 'M':\n",
        "            turno = 'T'\n",
        "        else:\n",
        "            turno = 'M'\n",
        "    elif 'M' not in turnos_existentes and sum([h for h in turnos_asignados.get((cluster, fecha), []) if isinstance(h, int)]) < 7:\n",
        "        turno = 'M'\n",
        "    else:\n",
        "        # Asignar turno de tarde 'T' solo si las horas no superan 4\n",
        "        if horas <= 4:\n",
        "            turno = 'T'\n",
        "        else:\n",
        "            turno = 'M'\n",
        "\n",
        "    # Si hay dos o más instaladores en el mismo cluster y fecha con la misma dirección, asignar el mismo turno\n",
        "    for inst in lista_instaladores_cluster:\n",
        "        if inst[2] == direccion:\n",
        "            turno = inst[1]\n",
        "            break\n",
        "\n",
        "    # Se verifica que un turno de tarde \"T\" no tenga más de 4 horas\n",
        "    if turno == 'T' y horas > 4:\n",
        "        turno = 'M'\n",
        "\n",
        "    # Se verifica que un turno de mañana \"M\" no tenga más de 6 horas para el mismo instalador y día\n",
        "    if turno == 'M' and sum([h for c, s in clusters_instalador if s == 'M' for h in turnos_asignados.get((c, fecha), []) if isinstance(h, int)]) + horas > 6:\n",
        "        # Asignar turno de tarde 'T' solo si las horas no superan 4\n",
        "        if horas <= 4:\n",
        "            turno = 'T'\n",
        "        else:\n",
        "            turno = 'M'\n",
        "\n",
        "    # Se actualizan los turnos\n",
        "    turnos_asignados.setdefault((cluster, fecha), []).append(horas)\n",
        "    turnos_asignados[(cluster, fecha)].append(turno)\n",
        "\n",
        "    # Se actualizan los clusters asignados al instalador\n",
        "    turnos_instaladores.setdefault((instalador, fecha), []).append((cluster, turno))\n",
        "\n",
        "    # Se actualizan los instaladores asignados al cluster\n",
        "    instaladores_cluster.setdefault((cluster, fecha), []).append((instalador, turno, direccion))\n",
        "\n",
        "    return turno\n",
        "\n",
        "# Se inicializan los diccionarios para llevar el registro de los turnos asignados y los clusters por instalador y por cluster\n",
        "turnos_asignados = {}\n",
        "turnos_instaladores = {}\n",
        "instaladores_cluster = {}\n",
        "\n",
        "# Se aplica la función para asignar turnos\n",
        "df['Turno'] = df.apply(asignar_turno, axis=1, turnos_asignados=turnos_asignados, turnos_instaladores=turnos_instaladores, instaladores_cluster=instaladores_cluster)\n",
        "\n",
        "# Guardar\n",
        "ruta_archivo_salida = '/content/drive/MyDrive/Agrupados_asignados_instaladores.xlsx'\n",
        "df.to_excel(ruta_archivo_salida, index=False)"
      ],
      "metadata": {
        "id": "GFRBhINqJ94R"
      },
      "execution_count": null,
      "outputs": []
    },
    {
      "cell_type": "markdown",
      "source": [
        "###CREAR LAS ORDENES DE TRABAJO. En pdf se envia por correo la orden de trabajo indicando al instalador el domicilio, máquinas a instalar y el día de instalación"
      ],
      "metadata": {
        "id": "K9G_J3u3cjAx"
      }
    },
    {
      "cell_type": "code",
      "source": [
        "!pip install fpdf"
      ],
      "metadata": {
        "colab": {
          "base_uri": "https://localhost:8080/"
        },
        "id": "F6jJ7nchcZvK",
        "outputId": "5c385b7c-9b7d-44ad-9641-45585d735e28"
      },
      "execution_count": null,
      "outputs": [
        {
          "output_type": "stream",
          "name": "stdout",
          "text": [
            "Collecting fpdf\n",
            "  Downloading fpdf-1.7.2.tar.gz (39 kB)\n",
            "  Preparing metadata (setup.py) ... \u001b[?25l\u001b[?25hdone\n",
            "Building wheels for collected packages: fpdf\n",
            "  Building wheel for fpdf (setup.py) ... \u001b[?25l\u001b[?25hdone\n",
            "  Created wheel for fpdf: filename=fpdf-1.7.2-py2.py3-none-any.whl size=40704 sha256=2391965bde4fc0f2664dae80cefa63b97234b75fa470f1177c88b7a97d6231cb\n",
            "  Stored in directory: /root/.cache/pip/wheels/65/4f/66/bbda9866da446a72e206d6484cd97381cbc7859a7068541c36\n",
            "Successfully built fpdf\n",
            "Installing collected packages: fpdf\n",
            "Successfully installed fpdf-1.7.2\n"
          ]
        }
      ]
    },
    {
      "cell_type": "code",
      "source": [
        "import pandas as pd\n",
        "import numpy as np\n",
        "from fpdf import FPDF\n",
        "import os\n",
        "\n",
        "# Cargar el archivo con los datos agrupados y asignados\n",
        "agrupados = pd.read_excel(\"/content/drive/MyDrive/Agrupados_asignados_instaladores.xlsx\", engine='openpyxl')\n",
        "\n",
        "# Crear el directorio para guardar los PDFs si no existe\n",
        "output_dir = \"/content/drive/MyDrive/PDF ORDENES DE TRABAJO\"\n",
        "os.makedirs(output_dir, exist_ok=True)\n",
        "\n",
        "# Generar un PDF para cada 'Instalador Asignado'\n",
        "for instalador in agrupados[\"Instalador Asignado\"].unique():\n",
        "    pdf = FPDF()\n",
        "    pdf.add_page()\n",
        "    pdf.set_font(\"Arial\", size=12)\n",
        "\n",
        "    # Filtrar datos por 'Instalador Asignado'\n",
        "    subset = agrupados[agrupados[\"Instalador Asignado\"] == instalador]\n",
        "\n",
        "    # Agregar título al PDF\n",
        "    pdf.cell(200, 10, txt=f\"Instalador Asignado: {instalador}\", ln=True, align='C')\n",
        "\n",
        "    # Agrupar por 'FECHA COMP INICIAL' y 'Dirección'\n",
        "    grouped = subset.groupby(['FECHA COMP INICIAL', 'DIRECCION', 'Latitud', 'Longitud', 'NUMERO'])\n",
        "\n",
        "    for (fecha, direccion, latitud, longitud, numero), group in grouped:\n",
        "        pdf.cell(200, 10, txt=f\"FECHA COMP INICIAL: {fecha}\", ln=True)\n",
        "        pdf.cell(200, 10, txt=f\"Dirección: {direccion} {numero}\", ln=True)\n",
        "        pdf.cell(200, 10, txt=f\"Latitud: {latitud}, Longitud: {longitud}\", ln=True)\n",
        "\n",
        "        for index, row in group.iterrows():\n",
        "            pdf.cell(200, 10, txt=f\"FAMILIA: {row['FAMILIA']}\", ln=True)\n",
        "            pdf.cell(200, 10, txt=f\"BARRA: {row['BARRA']}\", ln=True)\n",
        "            pdf.cell(200, 10, txt=f\"DESC. ARTICULO: {row['DESC. ARTICULO']}\", ln=True)\n",
        "            pdf.cell(200, 10, txt=\"------------------------------------------------------\", ln=True)\n",
        "\n",
        "    # Guardar el PDF en el directorio especificado\n",
        "    pdf_filename = os.path.join(output_dir, f\"{instalador}_asignado.pdf\")\n",
        "    pdf.output(pdf_filename)\n",
        "\n",
        "print(\"Asignación completada y PDFs generados y guardados en '/content/drive/MyDrive/PDF ORDENES DE TRABAJO'.\")"
      ],
      "metadata": {
        "colab": {
          "base_uri": "https://localhost:8080/"
        },
        "id": "7WYFKgiOcuEQ",
        "outputId": "602aa26d-1e94-492e-d470-3654817e9f60"
      },
      "execution_count": null,
      "outputs": [
        {
          "output_type": "stream",
          "name": "stdout",
          "text": [
            "Asignación completada y PDFs generados y guardados en '/content/drive/MyDrive/PDF ORDENES DE TRABAJO'.\n"
          ]
        }
      ]
    },
    {
      "cell_type": "markdown",
      "source": [
        "### ENVIO ORDENES DE TRABAJO POR EMAIL. Se envían todas las ordenes de trabajo a los instaladores asignados. (con mi email los prov10, 17, 18 y 30)"
      ],
      "metadata": {
        "id": "Kij3UTSGc9Td"
      }
    },
    {
      "cell_type": "code",
      "source": [
        "import smtplib\n",
        "from email.mime.multipart import MIMEMultipart\n",
        "from email.mime.text import MIMEText\n",
        "from email.mime.base import MIMEBase\n",
        "from email import encoders\n",
        "import os\n",
        "import pandas as pd\n",
        "import time\n",
        "\n",
        "# Configuración del servidor SMTP y credenciales de la cuenta de correo\n",
        "smtp_server = 'smtp.mail.yahoo.com'\n",
        "smtp_port = 587\n",
        "email_user = 'jdgf.2007@yahoo.es'\n",
        "email_password = 'ydovcqwtubnwlmhc'\n",
        "\n",
        "# Ruta del archivo Excel y la carpeta que contiene los archivos PDF\n",
        "excel_path = '/content/drive/MyDrive/instaladores_coordenadas.xlsx'\n",
        "folder_path = '/content/drive/MyDrive/PDF ORDENES DE TRABAJO'\n",
        "\n",
        "# Leer el archivo Excel\n",
        "df = pd.read_excel(excel_path, engine='openpyxl')\n",
        "\n",
        "# Crear el objeto del mensaje\n",
        "msg = MIMEMultipart()\n",
        "msg['From'] = email_user\n",
        "msg['Subject'] = 'Orden de trabajo instalación ECI'\n",
        "\n",
        "# Cuerpo del mensaje\n",
        "body = 'Adjunto encontrarás las ordenes de trabajo con la dirección del cliente y los equipos para su instalación.'\n",
        "msg.attach(MIMEText(body, 'plain'))\n",
        "\n",
        "# Función para enviar el correo con reintentos\n",
        "def enviar_correo(email_to, msg):\n",
        "    for i in range(3):  # Intentar 3 veces\n",
        "        try:\n",
        "            # Conectar al servidor SMTP\n",
        "            server = smtplib.SMTP(smtp_server, smtp_port, timeout=10)\n",
        "            server.starttls()\n",
        "            server.login(email_user, email_password)\n",
        "            text = msg.as_string()\n",
        "            server.sendmail(email_user, email_to, text)\n",
        "            server.quit()\n",
        "            print(f\"Correo enviado exitosamente a {email_to}\")\n",
        "            break\n",
        "        except smtplib.SMTPServerDisconnected:\n",
        "            print(f\"Intento {i+1}: Conexión cerrada inesperadamente. Reintentando...\")\n",
        "            time.sleep(5)  # Esperar 5 segundos antes de reintentar\n",
        "        except Exception as e:\n",
        "            print(f\"Error al enviar el correo a {email_to}: {e}\")\n",
        "            break\n",
        "\n",
        "# Adjuntar cada archivo PDF en la carpeta al correo electrónico\n",
        "for filename in os.listdir(folder_path):\n",
        "    if filename.endswith('.pdf'):\n",
        "        # Obtener el código del instalador desde el nombre del archivo PDF\n",
        "        installer_code = filename.replace('_asignado.pdf', '')\n",
        "\n",
        "        # Buscar el correo electrónico del instalador en el archivo Excel\n",
        "        email_to = df.loc[df['Instaladores por proveedor'] == installer_code, 'EMAIL'].values[0]\n",
        "\n",
        "        # Asignar la dirección de correo del destinatario al mensaje\n",
        "        msg['To'] = email_to\n",
        "\n",
        "        file_path = os.path.join(folder_path, filename)\n",
        "        attachment = open(file_path, 'rb')\n",
        "\n",
        "        part = MIMEBase('application', 'octet-stream')\n",
        "        part.set_payload(attachment.read())\n",
        "        encoders.encode_base64(part)\n",
        "        part.add_header('Content-Disposition', f'attachment; filename= {filename}')\n",
        "\n",
        "        msg.attach(part)\n",
        "\n",
        "        # Enviar el correo electrónico\n",
        "        enviar_correo(email_to, msg)\n",
        "\n",
        "print(\"Correos enviados\")\n"
      ],
      "metadata": {
        "colab": {
          "base_uri": "https://localhost:8080/",
          "height": 426
        },
        "collapsed": true,
        "id": "wQnJOMe8c-nE",
        "outputId": "b66358f2-1fea-4eb5-8da5-a42e1ac8ece0"
      },
      "execution_count": null,
      "outputs": [
        {
          "output_type": "stream",
          "name": "stdout",
          "text": [
            "Correo enviado exitosamente a prueba12@gmail.com\n",
            "Correo enviado exitosamente a prueba5@gmail.com\n",
            "Correo enviado exitosamente a prueba1@gmail.com\n",
            "Correo enviado exitosamente a prueba22@gmail.com\n"
          ]
        },
        {
          "output_type": "error",
          "ename": "KeyboardInterrupt",
          "evalue": "",
          "traceback": [
            "\u001b[0;31m---------------------------------------------------------------------------\u001b[0m",
            "\u001b[0;31mKeyboardInterrupt\u001b[0m                         Traceback (most recent call last)",
            "\u001b[0;32m<ipython-input-5-181f55f12cb2>\u001b[0m in \u001b[0;36m<cell line: 0>\u001b[0;34m()\u001b[0m\n\u001b[1;32m     73\u001b[0m \u001b[0;34m\u001b[0m\u001b[0m\n\u001b[1;32m     74\u001b[0m         \u001b[0;31m# Enviar el correo electrónico\u001b[0m\u001b[0;34m\u001b[0m\u001b[0;34m\u001b[0m\u001b[0m\n\u001b[0;32m---> 75\u001b[0;31m         \u001b[0menviar_correo\u001b[0m\u001b[0;34m(\u001b[0m\u001b[0memail_to\u001b[0m\u001b[0;34m,\u001b[0m \u001b[0mmsg\u001b[0m\u001b[0;34m)\u001b[0m\u001b[0;34m\u001b[0m\u001b[0;34m\u001b[0m\u001b[0m\n\u001b[0m\u001b[1;32m     76\u001b[0m \u001b[0;34m\u001b[0m\u001b[0m\n\u001b[1;32m     77\u001b[0m \u001b[0mprint\u001b[0m\u001b[0;34m(\u001b[0m\u001b[0;34m\"Correos enviados\"\u001b[0m\u001b[0;34m)\u001b[0m\u001b[0;34m\u001b[0m\u001b[0;34m\u001b[0m\u001b[0m\n",
            "\u001b[0;32m<ipython-input-5-181f55f12cb2>\u001b[0m in \u001b[0;36menviar_correo\u001b[0;34m(email_to, msg)\u001b[0m\n\u001b[1;32m     40\u001b[0m             \u001b[0mtext\u001b[0m \u001b[0;34m=\u001b[0m \u001b[0mmsg\u001b[0m\u001b[0;34m.\u001b[0m\u001b[0mas_string\u001b[0m\u001b[0;34m(\u001b[0m\u001b[0;34m)\u001b[0m\u001b[0;34m\u001b[0m\u001b[0;34m\u001b[0m\u001b[0m\n\u001b[1;32m     41\u001b[0m             \u001b[0mserver\u001b[0m\u001b[0;34m.\u001b[0m\u001b[0msendmail\u001b[0m\u001b[0;34m(\u001b[0m\u001b[0memail_user\u001b[0m\u001b[0;34m,\u001b[0m \u001b[0memail_to\u001b[0m\u001b[0;34m,\u001b[0m \u001b[0mtext\u001b[0m\u001b[0;34m)\u001b[0m\u001b[0;34m\u001b[0m\u001b[0;34m\u001b[0m\u001b[0m\n\u001b[0;32m---> 42\u001b[0;31m             \u001b[0mserver\u001b[0m\u001b[0;34m.\u001b[0m\u001b[0mquit\u001b[0m\u001b[0;34m(\u001b[0m\u001b[0;34m)\u001b[0m\u001b[0;34m\u001b[0m\u001b[0;34m\u001b[0m\u001b[0m\n\u001b[0m\u001b[1;32m     43\u001b[0m             \u001b[0mprint\u001b[0m\u001b[0;34m(\u001b[0m\u001b[0;34mf\"Correo enviado exitosamente a {email_to}\"\u001b[0m\u001b[0;34m)\u001b[0m\u001b[0;34m\u001b[0m\u001b[0;34m\u001b[0m\u001b[0m\n\u001b[1;32m     44\u001b[0m             \u001b[0;32mbreak\u001b[0m\u001b[0;34m\u001b[0m\u001b[0;34m\u001b[0m\u001b[0m\n",
            "\u001b[0;32m/usr/lib/python3.11/smtplib.py\u001b[0m in \u001b[0;36mquit\u001b[0;34m(self)\u001b[0m\n\u001b[1;32m   1002\u001b[0m     \u001b[0;32mdef\u001b[0m \u001b[0mquit\u001b[0m\u001b[0;34m(\u001b[0m\u001b[0mself\u001b[0m\u001b[0;34m)\u001b[0m\u001b[0;34m:\u001b[0m\u001b[0;34m\u001b[0m\u001b[0;34m\u001b[0m\u001b[0m\n\u001b[1;32m   1003\u001b[0m         \u001b[0;34m\"\"\"Terminate the SMTP session.\"\"\"\u001b[0m\u001b[0;34m\u001b[0m\u001b[0;34m\u001b[0m\u001b[0m\n\u001b[0;32m-> 1004\u001b[0;31m         \u001b[0mres\u001b[0m \u001b[0;34m=\u001b[0m \u001b[0mself\u001b[0m\u001b[0;34m.\u001b[0m\u001b[0mdocmd\u001b[0m\u001b[0;34m(\u001b[0m\u001b[0;34m\"quit\"\u001b[0m\u001b[0;34m)\u001b[0m\u001b[0;34m\u001b[0m\u001b[0;34m\u001b[0m\u001b[0m\n\u001b[0m\u001b[1;32m   1005\u001b[0m         \u001b[0;31m# A new EHLO is required after reconnecting with connect()\u001b[0m\u001b[0;34m\u001b[0m\u001b[0;34m\u001b[0m\u001b[0m\n\u001b[1;32m   1006\u001b[0m         \u001b[0mself\u001b[0m\u001b[0;34m.\u001b[0m\u001b[0mehlo_resp\u001b[0m \u001b[0;34m=\u001b[0m \u001b[0mself\u001b[0m\u001b[0;34m.\u001b[0m\u001b[0mhelo_resp\u001b[0m \u001b[0;34m=\u001b[0m \u001b[0;32mNone\u001b[0m\u001b[0;34m\u001b[0m\u001b[0;34m\u001b[0m\u001b[0m\n",
            "\u001b[0;32m/usr/lib/python3.11/smtplib.py\u001b[0m in \u001b[0;36mdocmd\u001b[0;34m(self, cmd, args)\u001b[0m\n\u001b[1;32m    430\u001b[0m         \u001b[0;34m\"\"\"Send a command, and return its response code.\"\"\"\u001b[0m\u001b[0;34m\u001b[0m\u001b[0;34m\u001b[0m\u001b[0m\n\u001b[1;32m    431\u001b[0m         \u001b[0mself\u001b[0m\u001b[0;34m.\u001b[0m\u001b[0mputcmd\u001b[0m\u001b[0;34m(\u001b[0m\u001b[0mcmd\u001b[0m\u001b[0;34m,\u001b[0m \u001b[0margs\u001b[0m\u001b[0;34m)\u001b[0m\u001b[0;34m\u001b[0m\u001b[0;34m\u001b[0m\u001b[0m\n\u001b[0;32m--> 432\u001b[0;31m         \u001b[0;32mreturn\u001b[0m \u001b[0mself\u001b[0m\u001b[0;34m.\u001b[0m\u001b[0mgetreply\u001b[0m\u001b[0;34m(\u001b[0m\u001b[0;34m)\u001b[0m\u001b[0;34m\u001b[0m\u001b[0;34m\u001b[0m\u001b[0m\n\u001b[0m\u001b[1;32m    433\u001b[0m \u001b[0;34m\u001b[0m\u001b[0m\n\u001b[1;32m    434\u001b[0m     \u001b[0;31m# std smtp commands\u001b[0m\u001b[0;34m\u001b[0m\u001b[0;34m\u001b[0m\u001b[0m\n",
            "\u001b[0;32m/usr/lib/python3.11/smtplib.py\u001b[0m in \u001b[0;36mgetreply\u001b[0;34m(self)\u001b[0m\n\u001b[1;32m    396\u001b[0m         \u001b[0;32mwhile\u001b[0m \u001b[0;36m1\u001b[0m\u001b[0;34m:\u001b[0m\u001b[0;34m\u001b[0m\u001b[0;34m\u001b[0m\u001b[0m\n\u001b[1;32m    397\u001b[0m             \u001b[0;32mtry\u001b[0m\u001b[0;34m:\u001b[0m\u001b[0;34m\u001b[0m\u001b[0;34m\u001b[0m\u001b[0m\n\u001b[0;32m--> 398\u001b[0;31m                 \u001b[0mline\u001b[0m \u001b[0;34m=\u001b[0m \u001b[0mself\u001b[0m\u001b[0;34m.\u001b[0m\u001b[0mfile\u001b[0m\u001b[0;34m.\u001b[0m\u001b[0mreadline\u001b[0m\u001b[0;34m(\u001b[0m\u001b[0m_MAXLINE\u001b[0m \u001b[0;34m+\u001b[0m \u001b[0;36m1\u001b[0m\u001b[0;34m)\u001b[0m\u001b[0;34m\u001b[0m\u001b[0;34m\u001b[0m\u001b[0m\n\u001b[0m\u001b[1;32m    399\u001b[0m             \u001b[0;32mexcept\u001b[0m \u001b[0mOSError\u001b[0m \u001b[0;32mas\u001b[0m \u001b[0me\u001b[0m\u001b[0;34m:\u001b[0m\u001b[0;34m\u001b[0m\u001b[0;34m\u001b[0m\u001b[0m\n\u001b[1;32m    400\u001b[0m                 \u001b[0mself\u001b[0m\u001b[0;34m.\u001b[0m\u001b[0mclose\u001b[0m\u001b[0;34m(\u001b[0m\u001b[0;34m)\u001b[0m\u001b[0;34m\u001b[0m\u001b[0;34m\u001b[0m\u001b[0m\n",
            "\u001b[0;32m/usr/lib/python3.11/socket.py\u001b[0m in \u001b[0;36mreadinto\u001b[0;34m(self, b)\u001b[0m\n\u001b[1;32m    716\u001b[0m         \u001b[0;32mwhile\u001b[0m \u001b[0;32mTrue\u001b[0m\u001b[0;34m:\u001b[0m\u001b[0;34m\u001b[0m\u001b[0;34m\u001b[0m\u001b[0m\n\u001b[1;32m    717\u001b[0m             \u001b[0;32mtry\u001b[0m\u001b[0;34m:\u001b[0m\u001b[0;34m\u001b[0m\u001b[0;34m\u001b[0m\u001b[0m\n\u001b[0;32m--> 718\u001b[0;31m                 \u001b[0;32mreturn\u001b[0m \u001b[0mself\u001b[0m\u001b[0;34m.\u001b[0m\u001b[0m_sock\u001b[0m\u001b[0;34m.\u001b[0m\u001b[0mrecv_into\u001b[0m\u001b[0;34m(\u001b[0m\u001b[0mb\u001b[0m\u001b[0;34m)\u001b[0m\u001b[0;34m\u001b[0m\u001b[0;34m\u001b[0m\u001b[0m\n\u001b[0m\u001b[1;32m    719\u001b[0m             \u001b[0;32mexcept\u001b[0m \u001b[0mtimeout\u001b[0m\u001b[0;34m:\u001b[0m\u001b[0;34m\u001b[0m\u001b[0;34m\u001b[0m\u001b[0m\n\u001b[1;32m    720\u001b[0m                 \u001b[0mself\u001b[0m\u001b[0;34m.\u001b[0m\u001b[0m_timeout_occurred\u001b[0m \u001b[0;34m=\u001b[0m \u001b[0;32mTrue\u001b[0m\u001b[0;34m\u001b[0m\u001b[0;34m\u001b[0m\u001b[0m\n",
            "\u001b[0;32m/usr/lib/python3.11/ssl.py\u001b[0m in \u001b[0;36mrecv_into\u001b[0;34m(self, buffer, nbytes, flags)\u001b[0m\n\u001b[1;32m   1312\u001b[0m                   \u001b[0;34m\"non-zero flags not allowed in calls to recv_into() on %s\"\u001b[0m \u001b[0;34m%\u001b[0m\u001b[0;34m\u001b[0m\u001b[0;34m\u001b[0m\u001b[0m\n\u001b[1;32m   1313\u001b[0m                   self.__class__)\n\u001b[0;32m-> 1314\u001b[0;31m             \u001b[0;32mreturn\u001b[0m \u001b[0mself\u001b[0m\u001b[0;34m.\u001b[0m\u001b[0mread\u001b[0m\u001b[0;34m(\u001b[0m\u001b[0mnbytes\u001b[0m\u001b[0;34m,\u001b[0m \u001b[0mbuffer\u001b[0m\u001b[0;34m)\u001b[0m\u001b[0;34m\u001b[0m\u001b[0;34m\u001b[0m\u001b[0m\n\u001b[0m\u001b[1;32m   1315\u001b[0m         \u001b[0;32melse\u001b[0m\u001b[0;34m:\u001b[0m\u001b[0;34m\u001b[0m\u001b[0;34m\u001b[0m\u001b[0m\n\u001b[1;32m   1316\u001b[0m             \u001b[0;32mreturn\u001b[0m \u001b[0msuper\u001b[0m\u001b[0;34m(\u001b[0m\u001b[0;34m)\u001b[0m\u001b[0;34m.\u001b[0m\u001b[0mrecv_into\u001b[0m\u001b[0;34m(\u001b[0m\u001b[0mbuffer\u001b[0m\u001b[0;34m,\u001b[0m \u001b[0mnbytes\u001b[0m\u001b[0;34m,\u001b[0m \u001b[0mflags\u001b[0m\u001b[0;34m)\u001b[0m\u001b[0;34m\u001b[0m\u001b[0;34m\u001b[0m\u001b[0m\n",
            "\u001b[0;32m/usr/lib/python3.11/ssl.py\u001b[0m in \u001b[0;36mread\u001b[0;34m(self, len, buffer)\u001b[0m\n\u001b[1;32m   1164\u001b[0m         \u001b[0;32mtry\u001b[0m\u001b[0;34m:\u001b[0m\u001b[0;34m\u001b[0m\u001b[0;34m\u001b[0m\u001b[0m\n\u001b[1;32m   1165\u001b[0m             \u001b[0;32mif\u001b[0m \u001b[0mbuffer\u001b[0m \u001b[0;32mis\u001b[0m \u001b[0;32mnot\u001b[0m \u001b[0;32mNone\u001b[0m\u001b[0;34m:\u001b[0m\u001b[0;34m\u001b[0m\u001b[0;34m\u001b[0m\u001b[0m\n\u001b[0;32m-> 1166\u001b[0;31m                 \u001b[0;32mreturn\u001b[0m \u001b[0mself\u001b[0m\u001b[0;34m.\u001b[0m\u001b[0m_sslobj\u001b[0m\u001b[0;34m.\u001b[0m\u001b[0mread\u001b[0m\u001b[0;34m(\u001b[0m\u001b[0mlen\u001b[0m\u001b[0;34m,\u001b[0m \u001b[0mbuffer\u001b[0m\u001b[0;34m)\u001b[0m\u001b[0;34m\u001b[0m\u001b[0;34m\u001b[0m\u001b[0m\n\u001b[0m\u001b[1;32m   1167\u001b[0m             \u001b[0;32melse\u001b[0m\u001b[0;34m:\u001b[0m\u001b[0;34m\u001b[0m\u001b[0;34m\u001b[0m\u001b[0m\n\u001b[1;32m   1168\u001b[0m                 \u001b[0;32mreturn\u001b[0m \u001b[0mself\u001b[0m\u001b[0;34m.\u001b[0m\u001b[0m_sslobj\u001b[0m\u001b[0;34m.\u001b[0m\u001b[0mread\u001b[0m\u001b[0;34m(\u001b[0m\u001b[0mlen\u001b[0m\u001b[0;34m)\u001b[0m\u001b[0;34m\u001b[0m\u001b[0;34m\u001b[0m\u001b[0m\n",
            "\u001b[0;31mKeyboardInterrupt\u001b[0m: "
          ]
        }
      ]
    },
    {
      "cell_type": "markdown",
      "source": [
        "### Dato consolidado para Power BI"
      ],
      "metadata": {
        "id": "gMyCeyPl2Tg5"
      }
    },
    {
      "cell_type": "code",
      "source": [
        "import pandas as pd\n",
        "\n",
        "# Archivos\n",
        "file_ultimas_reservas = '/content/drive/MyDrive/Ultimas_reservas_instalaciones.xlsx'\n",
        "file_agrupados_asignados = '/content/drive/MyDrive/Agrupados_asignados_instaladores.xlsx'\n",
        "\n",
        "# Leer los archivos Excel\n",
        "df_ultimas_reservas = pd.read_excel(file_ultimas_reservas, engine='openpyxl')\n",
        "df_agrupados_asignados = pd.read_excel(file_agrupados_asignados, engine='openpyxl')\n",
        "\n",
        "# Columnas a completar\n",
        "columnas_adicionales = [\"Latitud\", \"Longitud\", \"Solo_CP\", \"Horas_instalacion\", \"cluster\", \"cluster_ajustado\", \"total_horas\", \"Instalador Asignado\", \"Latitud Instalador\", \"Longitud Instalador\", \"Turno\"]\n",
        "\n",
        "# Se rellenan las columnas adicionales con los valores del fichero 'Agrupados_asignados_instaladores.xlsx' que coincidan con 'RESERVA' y 'BARRA'\n",
        "for index, row in df_ultimas_reservas.iterrows():\n",
        "    reserva = row['RESERVA']\n",
        "    barra = row['BARRA']\n",
        "    matching_row = df_agrupados_asignados[(df_agrupados_asignados['RESERVA'] == reserva) & (df_agrupados_asignados['BARRA'] == barra)]\n",
        "\n",
        "    if not matching_row.empty:\n",
        "        for columna in columnas_adicionales:\n",
        "            df_ultimas_reservas.at[index, columna] = matching_row.iloc[0][columna]\n",
        "\n",
        "# Se guarda el nuevo archivo\n",
        "output_file_instalaciones = '/content/drive/MyDrive/Ultimas_reservas_instalaciones_completadas.xlsx'\n",
        "df_ultimas_reservas.to_excel(output_file_instalaciones, index=False)\n",
        "\n",
        "print(f\"El archivo '{output_file_instalaciones}' ha sido creado.\")\n"
      ],
      "metadata": {
        "colab": {
          "base_uri": "https://localhost:8080/"
        },
        "id": "0CREUGGN7AAA",
        "outputId": "83d97e25-b7e1-4a83-91ae-049ebc24889a"
      },
      "execution_count": 21,
      "outputs": [
        {
          "output_type": "stream",
          "name": "stderr",
          "text": [
            "<ipython-input-21-d8d8e3501c51>:22: FutureWarning: Setting an item of incompatible dtype is deprecated and will raise an error in a future version of pandas. Value 'False' has dtype incompatible with float64, please explicitly cast to a compatible dtype first.\n",
            "  df_ultimas_reservas.at[index, columna] = matching_row.iloc[0][columna]\n"
          ]
        },
        {
          "output_type": "stream",
          "name": "stdout",
          "text": [
            "El archivo '/content/drive/MyDrive/Ultimas_reservas_instalaciones_completadas.xlsx' ha sido creado.\n"
          ]
        }
      ]
    },
    {
      "cell_type": "markdown",
      "source": [
        "### Para cambiar el formato del fichero de capacidad instaladores y poder usarlo en PowerBI"
      ],
      "metadata": {
        "id": "poxwYHjsqkig"
      }
    },
    {
      "cell_type": "code",
      "source": [
        "import pandas as pd\n",
        "\n",
        "# Excel a transformar\n",
        "file_path = '/content/drive/MyDrive/Capacidad_instaladores_dia_actualizado.xlsx'\n",
        "\n",
        "# Archivo Excel\n",
        "df_original = pd.read_excel(file_path, engine='openpyxl')\n",
        "\n",
        "# Identificar las columnas de fechas\n",
        "columnas_fechas = df_original.columns[5:]\n",
        "\n",
        "# Transformar\n",
        "df_transformado = df_original.melt(id_vars=['Empresa', 'Instaladores', 'Latitud', 'Longitud', 'EMAIL'],\n",
        "                                   value_vars=columnas_fechas,\n",
        "                                   var_name='FECHA',\n",
        "                                   value_name='UNIDADES')\n",
        "\n",
        "# Guardar el Excel modificado\n",
        "output_file = '/content/drive/MyDrive/Capacidad_instaladores_dia_transformado.xlsx'\n",
        "df_transformado.to_excel(output_file, index=False)\n",
        "\n",
        "print(f\"El archivo '{output_file}' ha sido creado.\")\n"
      ],
      "metadata": {
        "colab": {
          "base_uri": "https://localhost:8080/"
        },
        "id": "iSRrxOGRpDPB",
        "outputId": "4a455cfc-15b5-4365-97fc-b723a408e352"
      },
      "execution_count": 22,
      "outputs": [
        {
          "output_type": "stream",
          "name": "stdout",
          "text": [
            "El archivo '/content/drive/MyDrive/Capacidad_instaladores_dia_transformado.xlsx' ha sido creado.\n"
          ]
        }
      ]
    }
  ]
}